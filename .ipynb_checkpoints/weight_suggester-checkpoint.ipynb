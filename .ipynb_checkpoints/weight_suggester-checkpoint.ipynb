{
 "cells": [
  {
   "cell_type": "markdown",
   "id": "3e9d5fe3-4db3-4a1d-894d-fe6f8965233a",
   "metadata": {},
   "source": [
    "# Weight suggestion tool for runners\n",
    "\n",
    "Below is a complicated-looking function we use to calculate the optimal BMI to boost your running performance. But don't worry about it too much. Hit run (\"play\" button at the top) and scroll below where you can answer some questions and get a suggestion tailored to you and your needs."
   ]
  },
  {
   "cell_type": "code",
   "execution_count": null,
   "id": "5ee43fc0-7fa2-4e80-8e49-43a3e308a99c",
   "metadata": {},
   "outputs": [],
   "source": [
    "import numpy as np\n",
    "\n",
    "def weight_suggester(Sex,Age,Height,Distance):\n",
    "\n",
    "  # The linear models:\n",
    "  coef_s = np.array([ 8.41156984,  0.11285475,  0.63783763, -0.0086542 ,  0.06968786])\n",
    "  coef_m = np.array([5.550487455597479, 0.10197139872825182, 0.558837805178148, -0.003130011929567064, -0.0078018646581095915])\n",
    "  coef_l = np.array([5.335467884466255, 0.0739733719125365, 0.54568917753583, 9.786730369887309e-06, -0.026040747138116563])\n",
    "  intercept_s = -189.22097428736998\n",
    "  intercept_m = -22.761939543825527\n",
    "  intercept_l = 10.085980826797723\n",
    "  esd_s = 5.075215957601485\n",
    "  esd_m = 3.7727542156891674\n",
    "  esd_l = 3.7897896342231276\n",
    "\n",
    "  # Converting Sex input into binary if it is a string\n",
    "  numeric_dictionary = {'F' : 0, 'M' : 1, 'Female' : 0, 'Male' : 1, 'female' : 0, 'male' : 1}\n",
    "  \n",
    "  if type(Sex) == str:\n",
    "    Sex = numeric_dictionary[Sex]\n",
    "\n",
    "  subject = np.array([Sex,Age,Height,Distance,2020])\n",
    "\n",
    "  # Applying to the approapriate model\n",
    "  if Distance < 600:\n",
    "    weight = np.dot(coef_s,subject) + intercept_s\n",
    "    dev = esd_s\n",
    "  if Distance < 2500:\n",
    "    weight = np.dot(coef_m,subject) + intercept_m\n",
    "    dev = esd_m\n",
    "  else:\n",
    "    weight = np.dot(coef_l,subject) + intercept_l\n",
    "    dev = esd_l\n",
    "\n",
    "  return round(weight - dev, 2), round(weight, 2), round(weight + dev, 2)"
   ]
  },
  {
   "cell_type": "markdown",
   "id": "75e8bbd0-dbaf-4761-b4b5-104d9640aaf8",
   "metadata": {},
   "source": [
    "By running the cell below (hitting the \"play\" button at the top), you'll initiate our tool. Answer the questions and our weight suggester will give you your optimal weigth and weight range to help you reach your running goals."
   ]
  },
  {
   "cell_type": "code",
   "execution_count": null,
   "id": "cf6520ca-43de-4396-8ac8-6ec491b8d5a2",
   "metadata": {},
   "outputs": [],
   "source": [
    "sex = input(\"What's your sex? (Female/Male) \")\n",
    "age = float(input(\"How old are you? \"))\n",
    "height = float(input(\"How tall are you? (in cm) \"))\n",
    "distance = float(input(\"What distance are you training for? (in m) \"))\n",
    "\n",
    "print(\"Your optimal weight range, inlcuding your optimal weight is: \", weight_suggester(sex, age, height, distance))"
   ]
  }
 ],
 "metadata": {
  "celltoolbar": "Tags",
  "kernelspec": {
   "display_name": "Python 3",
   "language": "python",
   "name": "python3"
  },
  "language_info": {
   "codemirror_mode": {
    "name": "ipython",
    "version": 3
   },
   "file_extension": ".py",
   "mimetype": "text/x-python",
   "name": "python",
   "nbconvert_exporter": "python",
   "pygments_lexer": "ipython3",
   "version": "3.8.8"
  }
 },
 "nbformat": 4,
 "nbformat_minor": 5
}
